{
 "cells": [
  {
   "cell_type": "markdown",
   "metadata": {
    "collapsed": false,
    "pycharm": {
     "name": "#%% md\n"
    }
   },
   "source": [
    "##  <font color='black'>Important Imports</font>"
   ]
  },
  {
   "cell_type": "markdown",
   "metadata": {
    "collapsed": false
   },
   "source": []
  },
  {
   "cell_type": "code",
   "execution_count": null,
   "metadata": {
    "collapsed": false,
    "pycharm": {
     "name": "#%%\n"
    }
   },
   "outputs": [],
   "source": [
    "import pandas as pd\n",
    "from keras_preprocessing.image import ImageDataGenerator\n",
    "from tensorflow import optimizers\n",
    "from tensorflow import keras\n",
    "from keras.layers import Conv2D, Activation, MaxPooling2D, Dropout, Flatten, Dense\n",
    "from keras import Sequential\n",
    "import os # accessing directory structure\n",
    "import tensorflow as tf\n",
    "\n",
    "from tensorflow.keras.layers import Dropout, Flatten, Dense, BatchNormalization\n",
    "\n",
    "import warnings\n",
    "#Supress warnings\n",
    "warnings.filterwarnings('ignore')"
   ]
  },
  {
   "cell_type": "markdown",
   "metadata": {
    "collapsed": false,
    "pycharm": {
     "name": "#%% md\n"
    }
   },
   "source": []
  },
  {
   "cell_type": "code",
   "execution_count": 2,
   "metadata": {
    "collapsed": false,
    "pycharm": {
     "name": "#%%\n"
    }
   },
   "outputs": [
    {
     "name": "stdout",
     "output_type": "stream",
     "text": [
      "['.idea', '.ipynb_checkpoints', 'A2.ipynb', 'A2Final.ipynb', 'A2good.ipynb', 'dsProject', 'images', 'styles.csv', 'test.csv', 'train.csv', 'venv']\n"
     ]
    }
   ],
   "source": [
    "DATASET_PATH = r\"C:\\Users\\Admin\\Desktop\\Winter 2022\\CISC 351\\Assignments\\351A2\"\n",
    "print(os.listdir(DATASET_PATH))"
   ]
  },
  {
   "cell_type": "markdown",
   "metadata": {
    "collapsed": false
   },
   "source": [
    "\n",
    "\n",
    "\n",
    "\n",
    "##  <font color='black'>Explanatory Analysis/Original Dataset</font>"
   ]
  },
  {
   "cell_type": "code",
   "execution_count": 3,
   "metadata": {
    "collapsed": false,
    "pycharm": {
     "name": "#%%\n"
    }
   },
   "outputs": [
    {
     "name": "stderr",
     "output_type": "stream",
     "text": [
      "b'Skipping line 6044: expected 10 fields, saw 11\\nSkipping line 6569: expected 10 fields, saw 11\\nSkipping line 7399: expected 10 fields, saw 11\\nSkipping line 7939: expected 10 fields, saw 11\\nSkipping line 9026: expected 10 fields, saw 11\\nSkipping line 10264: expected 10 fields, saw 11\\nSkipping line 10427: expected 10 fields, saw 11\\nSkipping line 10905: expected 10 fields, saw 11\\nSkipping line 11373: expected 10 fields, saw 11\\nSkipping line 11945: expected 10 fields, saw 11\\nSkipping line 14112: expected 10 fields, saw 11\\nSkipping line 14532: expected 10 fields, saw 11\\nSkipping line 15076: expected 10 fields, saw 12\\nSkipping line 29906: expected 10 fields, saw 11\\nSkipping line 31625: expected 10 fields, saw 11\\nSkipping line 33020: expected 10 fields, saw 11\\nSkipping line 35748: expected 10 fields, saw 11\\nSkipping line 35962: expected 10 fields, saw 11\\nSkipping line 37770: expected 10 fields, saw 11\\nSkipping line 38105: expected 10 fields, saw 11\\nSkipping line 38275: expected 10 fields, saw 11\\nSkipping line 38404: expected 10 fields, saw 12\\n'\n"
     ]
    },
    {
     "data": {
      "text/html": [
       "<div>\n",
       "<style scoped>\n",
       "    .dataframe tbody tr th:only-of-type {\n",
       "        vertical-align: middle;\n",
       "    }\n",
       "\n",
       "    .dataframe tbody tr th {\n",
       "        vertical-align: top;\n",
       "    }\n",
       "\n",
       "    .dataframe thead th {\n",
       "        text-align: right;\n",
       "    }\n",
       "</style>\n",
       "<table border=\"1\" class=\"dataframe\">\n",
       "  <thead>\n",
       "    <tr style=\"text-align: right;\">\n",
       "      <th></th>\n",
       "      <th>id</th>\n",
       "      <th>gender</th>\n",
       "      <th>masterCategory</th>\n",
       "      <th>subCategory</th>\n",
       "      <th>articleType</th>\n",
       "      <th>baseColour</th>\n",
       "      <th>season</th>\n",
       "      <th>year</th>\n",
       "      <th>usage</th>\n",
       "      <th>productDisplayName</th>\n",
       "    </tr>\n",
       "  </thead>\n",
       "  <tbody>\n",
       "    <tr>\n",
       "      <th>0</th>\n",
       "      <td>15970</td>\n",
       "      <td>Men</td>\n",
       "      <td>Apparel</td>\n",
       "      <td>Topwear</td>\n",
       "      <td>Shirts</td>\n",
       "      <td>Navy Blue</td>\n",
       "      <td>Fall</td>\n",
       "      <td>2011.0</td>\n",
       "      <td>Casual</td>\n",
       "      <td>Turtle Check Men Navy Blue Shirt</td>\n",
       "    </tr>\n",
       "    <tr>\n",
       "      <th>1</th>\n",
       "      <td>39386</td>\n",
       "      <td>Men</td>\n",
       "      <td>Apparel</td>\n",
       "      <td>Bottomwear</td>\n",
       "      <td>Jeans</td>\n",
       "      <td>Blue</td>\n",
       "      <td>Summer</td>\n",
       "      <td>2012.0</td>\n",
       "      <td>Casual</td>\n",
       "      <td>Peter England Men Party Blue Jeans</td>\n",
       "    </tr>\n",
       "    <tr>\n",
       "      <th>2</th>\n",
       "      <td>59263</td>\n",
       "      <td>Women</td>\n",
       "      <td>Accessories</td>\n",
       "      <td>Watches</td>\n",
       "      <td>Watches</td>\n",
       "      <td>Silver</td>\n",
       "      <td>Winter</td>\n",
       "      <td>2016.0</td>\n",
       "      <td>Casual</td>\n",
       "      <td>Titan Women Silver Watch</td>\n",
       "    </tr>\n",
       "  </tbody>\n",
       "</table>\n",
       "</div>"
      ],
      "text/plain": [
       "      id gender masterCategory subCategory articleType baseColour  season  \\\n",
       "0  15970    Men        Apparel     Topwear      Shirts  Navy Blue    Fall   \n",
       "1  39386    Men        Apparel  Bottomwear       Jeans       Blue  Summer   \n",
       "2  59263  Women    Accessories     Watches     Watches     Silver  Winter   \n",
       "\n",
       "     year   usage                  productDisplayName  \n",
       "0  2011.0  Casual    Turtle Check Men Navy Blue Shirt  \n",
       "1  2012.0  Casual  Peter England Men Party Blue Jeans  \n",
       "2  2016.0  Casual            Titan Women Silver Watch  "
      ]
     },
     "execution_count": 3,
     "metadata": {},
     "output_type": "execute_result"
    }
   ],
   "source": [
    "df = pd.read_csv(DATASET_PATH + \"\\styles.csv\", error_bad_lines=False)\n",
    "#Display first 10 rows\n",
    "df.head(3)"
   ]
  },
  {
   "cell_type": "markdown",
   "metadata": {
    "collapsed": false,
    "pycharm": {
     "name": "#%% md\n"
    }
   },
   "source": [
    "\n",
    "\n",
    "\n"
   ]
  },
  {
   "cell_type": "markdown",
   "metadata": {
    "collapsed": false,
    "pycharm": {
     "name": "#%% md\n"
    }
   },
   "source": [
    "##  <font color='black'>Creating access to the JPGs from the DataFrame</font>\n",
    "Using a lambda function, create an extra column which contains the Path to the photo associated with the ID."
   ]
  },
  {
   "cell_type": "code",
   "execution_count": 4,
   "metadata": {
    "collapsed": false,
    "pycharm": {
     "name": "#%%\n"
    }
   },
   "outputs": [],
   "source": [
    "#Create new column containing image path\n",
    "df['image'] = df.apply(lambda row: str(row['id']) + \".jpg\", axis=1)\n",
    "#ex: if id= 42069 => image = 42069.jpg"
   ]
  },
  {
   "cell_type": "markdown",
   "metadata": {
    "collapsed": false,
    "pycharm": {
     "name": "#%% md\n"
    }
   },
   "source": [
    "\n",
    "\n",
    "\n",
    "\n",
    "\n",
    "##  <font color='black'>Remove any Unnecessary columns</font>"
   ]
  },
  {
   "cell_type": "code",
   "execution_count": 5,
   "metadata": {
    "collapsed": false,
    "pycharm": {
     "name": "#%%\n"
    }
   },
   "outputs": [
    {
     "name": "stdout",
     "output_type": "stream",
     "text": [
      "[15970 39386 59263 ... 18842 46694 51623]\n",
      "['Topwear' 'Bottomwear' 'Watches' 'Socks' 'Shoes' 'Belts' 'Flip Flops'\n",
      " 'Bags' 'Innerwear' 'Sandal' 'Shoe Accessories' 'Fragrance' 'Jewellery'\n",
      " 'Lips' 'Saree' 'Eyewear' 'Nails' 'Scarves' 'Dress'\n",
      " 'Loungewear and Nightwear' 'Wallets' 'Apparel Set' 'Headwear' 'Mufflers'\n",
      " 'Skin Care' 'Makeup' 'Free Gifts' 'Ties' 'Accessories' 'Skin'\n",
      " 'Beauty Accessories' 'Water Bottle' 'Eyes' 'Bath and Body' 'Gloves'\n",
      " 'Sports Accessories' 'Cufflinks' 'Sports Equipment' 'Stoles' 'Hair'\n",
      " 'Perfumes' 'Home Furnishing' 'Umbrellas' 'Wristbands' 'Vouchers']\n",
      "['15970.jpg' '39386.jpg' '59263.jpg' ... '18842.jpg' '46694.jpg'\n",
      " '51623.jpg']\n"
     ]
    }
   ],
   "source": [
    "#Drop columns\n",
    "df = df.drop(['gender','baseColour','season','year','usage','productDisplayName','articleType','masterCategory'], axis = 1)\n",
    "\n",
    "#Show unique Categories (Classes)\n",
    "df.head()\n",
    "for col in df:\n",
    "    print(df[col].unique())\n",
    "\n",
    "#Replace all attributes that are not in the 13 Subcategories with 'Other' Label\n",
    "df['subCategory'] = df['subCategory'].replace(['Belts', 'Socks', 'Apparel Set', 'Ties','Lips','Free Gifts','Flip Flops','Saree','Skin','Scarves','Shoe Accessories','Headwear','Accessories','Nails','Gloves' ,'Mufflers','Skin Care','Eyes', 'Bath and Body','Cufflinks','Sports Equipment','Stoles','Hair','Umbrellas','Vouchers','Perfumes','Home Furnishing','Wristbands','Loungewear and Nightwear','Dress', 'Beauty Accessories','Water Bottle','Sports Accessories'], 'Other')"
   ]
  },
  {
   "cell_type": "markdown",
   "metadata": {
    "collapsed": false,
    "pycharm": {
     "name": "#%% md\n"
    }
   },
   "source": [
    "##  <font color='black'>This Block of code consists of data-preprocessing the whole dataset. It removes all rows which don't have associated JPGs.</font>\n"
   ]
  },
  {
   "cell_type": "code",
   "execution_count": 6,
   "metadata": {
    "collapsed": false,
    "pycharm": {
     "name": "#%%\n"
    }
   },
   "outputs": [],
   "source": [
    "#Invalid IDs\n",
    "invalid_ids = []\n",
    "\n",
    "#Iterate through and try to open each photo associated with ID.\n",
    "for name in df.id:\n",
    "    try:\n",
    "        fn=open('images/'+str(name)+'.jpg')\n",
    "    except:\n",
    "        # Images for certain ids are missing, so they are not added to the dataset\n",
    "        invalid_ids.append(name)\n",
    "\n",
    "#print(invalid_ids)\n",
    "#print('length:')\n",
    "#print(len(invalid_ids))\n",
    "df = df[~df['id'].isin(invalid_ids)]\n",
    "#print(df)"
   ]
  },
  {
   "cell_type": "markdown",
   "metadata": {
    "collapsed": false,
    "pycharm": {
     "name": "#%% md\n"
    }
   },
   "source": [
    "\n",
    "\n",
    "\n",
    "\n",
    "\n"
   ]
  },
  {
   "cell_type": "markdown",
   "metadata": {
    "collapsed": false,
    "pycharm": {
     "name": "#%% md\n"
    }
   },
   "source": [
    "##  <font color='black'>Remove Rows for which Associated JPG is missing/not provided in both Test and Train, separately</font>"
   ]
  },
  {
   "cell_type": "code",
   "execution_count": 7,
   "metadata": {
    "collapsed": false,
    "pycharm": {
     "name": "#%%\n"
    }
   },
   "outputs": [],
   "source": [
    "#a = Test, b = Train\n",
    "\n",
    "#Read CSV using tab delimiter\n",
    "\n",
    "a = pd.read_csv('test.csv', sep='\\t')\n",
    "b = pd.read_csv('train.csv', sep='\\t')\n",
    "\n",
    "#Apply lambda function to create new column with image Path\n",
    "\n",
    "a['image'] = a.apply(lambda row: str(row['imageid']) + \".jpg\", axis=1)\n",
    "b['image'] = b.apply(lambda row: str(row['imageid']) + \".jpg\", axis=1)\n",
    "\n",
    "#Drop 'useless' column\n",
    "\n",
    "a = a.drop(columns=['productname'])\n",
    "b = b.drop(columns=['productname'])\n",
    "\n",
    "#Rename for consistency with main DF\n",
    "\n",
    "a.rename(columns={'label': 'subCategory','imageid':'id'}, inplace=True)\n",
    "b.rename(columns={'label': 'subCategory','imageid':'id'}, inplace=True)\n",
    "\n",
    "#Invalid IDs\n",
    "invalid_idsA = []\n",
    "invalid_idsB = []\n",
    "\n",
    "#Remove invalid rows in test data\n",
    "for name in a.id:\n",
    "    try:\n",
    "        fn=open('images/'+str(name)+'.jpg')\n",
    "    except:\n",
    "        invalid_idsA.append(name)\n",
    "        # Images for certain ids are missing, so they are not added to the dataset\n",
    "a = a[~a['id'].isin(invalid_idsA)]\n",
    "\n",
    "#Remove invalid rows in training data\n",
    "for name in b.id:\n",
    "    try:\n",
    "        fn=open('images/'+str(name)+'.jpg')\n",
    "    except:\n",
    "        invalid_idsB.append(name)\n",
    "        # Images for certain ids are missing, so they are not added to the dataset\n",
    "b = b[~b['id'].isin(invalid_idsB)]\n",
    "\n",
    "#---------------------------------------------------------------------------------\n",
    "#Debugging\n",
    "\n",
    "#print(a)\n",
    "#print(b)\n",
    "#print(a.dtypes)\n",
    "#print(b.dtypes)\n",
    "#print(df.dtypes)"
   ]
  },
  {
   "cell_type": "markdown",
   "metadata": {
    "collapsed": false,
    "pycharm": {
     "name": "#%% md\n"
    }
   },
   "source": [
    "##  <font color='black'>Use of ImageDataGenerator to facilitate fetching and conversion of images</font>\n"
   ]
  },
  {
   "cell_type": "code",
   "execution_count": 8,
   "metadata": {
    "collapsed": false,
    "pycharm": {
     "name": "#%%\n"
    }
   },
   "outputs": [
    {
     "name": "stdout",
     "output_type": "stream",
     "text": [
      "Found 32344 non-validated image filenames belonging to 13 classes.\n",
      "Found 799 non-validated image filenames belonging to 13 classes.\n"
     ]
    }
   ],
   "source": [
    "#Batch size, a hyperparameter\n",
    "batch_size = 32\n",
    "\n",
    "image_generator = ImageDataGenerator(\n",
    "    #20/80 validation split\n",
    "    validation_split=0.2,\n",
    "\n",
    "    #rescaling factor\n",
    "    rescale=1./255\n",
    ")\n",
    "\n",
    "#Training generator\n",
    "training_generator = image_generator.flow_from_dataframe(\n",
    "    #Training data\n",
    "    dataframe=b,\n",
    "    #Image directory\n",
    "    directory=DATASET_PATH + \"\\images\",\n",
    "    x_col=\"image\",\n",
    "    y_col=\"subCategory\",\n",
    "    class_mode=\"categorical\",\n",
    "\n",
    "    #Dimensions to which all images found will be resized(hyperparameter)\n",
    "    target_size=(32,32),\n",
    "    batch_size=batch_size,\n",
    "    validate_filenames=False,\n",
    "    subset=\"training\"\n",
    ")\n",
    "\n",
    "validation_generator = image_generator.flow_from_dataframe(\n",
    "    #Validation data\n",
    "    dataframe=a,\n",
    "    #Image directory\n",
    "    directory=DATASET_PATH + \"\\images\",\n",
    "    x_col=\"image\",\n",
    "    y_col=\"subCategory\",\n",
    "    class_mode=\"categorical\",\n",
    "\n",
    "    #Dimensions to which all images found will be resized(hyperparameter)\n",
    "    target_size=(32,32),\n",
    "    batch_size=batch_size,\n",
    "    validate_filenames=False,\n",
    "    subset=\"validation\"\n",
    ")\n",
    "\n",
    "classes = len(training_generator.class_indices)"
   ]
  },
  {
   "cell_type": "markdown",
   "metadata": {
    "collapsed": false,
    "pycharm": {
     "name": "#%% md\n"
    }
   },
   "source": [
    "\n",
    "\n",
    "\n",
    "\n"
   ]
  },
  {
   "cell_type": "markdown",
   "metadata": {
    "collapsed": false,
    "pycharm": {
     "name": "#%% md\n"
    }
   },
   "source": [
    "##  <font color='black'>Part 1: Image Classification using CNN(50 points)</font>\n"
   ]
  },
  {
   "cell_type": "code",
   "execution_count": 9,
   "metadata": {
    "collapsed": false,
    "pycharm": {
     "name": "#%%\n"
    }
   },
   "outputs": [
    {
     "name": "stdout",
     "output_type": "stream",
     "text": [
      "Epoch 1/10\n",
      "1010/1010 [==============================] - 57s 56ms/step - loss: 1.0149 - accuracy: 0.6826 - val_loss: 0.5642 - val_accuracy: 0.8411\n",
      "Epoch 2/10\n",
      "1010/1010 [==============================] - 64s 64ms/step - loss: 0.5582 - accuracy: 0.8265 - val_loss: 0.4250 - val_accuracy: 0.8841\n",
      "Epoch 3/10\n",
      "1010/1010 [==============================] - 62s 61ms/step - loss: 0.4574 - accuracy: 0.8588 - val_loss: 0.3507 - val_accuracy: 0.9023\n",
      "Epoch 4/10\n",
      "1010/1010 [==============================] - 62s 61ms/step - loss: 0.3991 - accuracy: 0.8750 - val_loss: 0.3005 - val_accuracy: 0.9115\n",
      "Epoch 5/10\n",
      "1010/1010 [==============================] - 59s 59ms/step - loss: 0.3568 - accuracy: 0.8895 - val_loss: 0.2947 - val_accuracy: 0.9180\n",
      "Epoch 6/10\n",
      "1010/1010 [==============================] - 61s 60ms/step - loss: 0.3265 - accuracy: 0.8972 - val_loss: 0.2606 - val_accuracy: 0.9258\n",
      "Epoch 7/10\n",
      "1010/1010 [==============================] - 59s 59ms/step - loss: 0.3034 - accuracy: 0.9038 - val_loss: 0.2610 - val_accuracy: 0.9167\n",
      "Epoch 8/10\n",
      "1010/1010 [==============================] - 61s 60ms/step - loss: 0.2847 - accuracy: 0.9117 - val_loss: 0.2220 - val_accuracy: 0.9375\n",
      "Epoch 9/10\n",
      "1010/1010 [==============================] - 61s 60ms/step - loss: 0.2652 - accuracy: 0.9159 - val_loss: 0.2220 - val_accuracy: 0.9414\n",
      "Epoch 10/10\n",
      "1010/1010 [==============================] - 63s 62ms/step - loss: 0.2498 - accuracy: 0.9218 - val_loss: 0.2121 - val_accuracy: 0.9401\n"
     ]
    }
   ],
   "source": [
    "\n",
    "#Sequential model\n",
    "model = Sequential()\n",
    "\n",
    "#Convolutions and Activation Layers\n",
    "model.add(Conv2D(32, (3, 3), padding='same',input_shape=(32,32,3)))\n",
    "model.add(Activation('relu'))\n",
    "model.add(Conv2D(32, (3, 3)))\n",
    "model.add(Activation('relu'))\n",
    "#RELU = Rectified Linear Unit ( n if n >0, 0 if n<0)\n",
    "\n",
    "#Max Pooling layer\n",
    "model.add(MaxPooling2D(pool_size=(2, 2)))\n",
    "\n",
    "#Dropout Layer to prevent overfitting\n",
    "model.add(Dropout(0.25))\n",
    "\n",
    "#Convolutions and Activation Layers\n",
    "model.add(Conv2D(64, (3, 3), padding='same'))\n",
    "model.add(Activation('relu'))\n",
    "model.add(Conv2D(64, (3, 3)))\n",
    "model.add(Activation('relu'))\n",
    "\n",
    "#Max Pooling layer\n",
    "model.add(MaxPooling2D(pool_size=(2, 2)))\n",
    "\n",
    "#Dropout Layer to prevent overfitting\n",
    "model.add(Dropout(0.25))\n",
    "\n",
    "#Flatten layer\n",
    "model.add(Flatten())\n",
    "\n",
    "#Dense Layer(each neuron receives input from all previous outputs)\n",
    "model.add(Dense(512))\n",
    "\n",
    "#Activation Layer\n",
    "model.add(Activation('relu'))\n",
    "\n",
    "#Dropout to prevent overfitting\n",
    "model.add(Dropout(0.5))\n",
    "model.add(Dense(13, activation='softmax'))\n",
    "\n",
    "#Using Adam optimizer\n",
    "model.compile(optimizers.Adam(lr=0.0001),loss=\"categorical_crossentropy\", metrics=[\"accuracy\"])\n",
    "\n",
    "#Model Hyperparameters\n",
    "STEP_SIZE_TRAIN=training_generator.n//training_generator.batch_size\n",
    "STEP_SIZE_VALID=validation_generator.n//validation_generator.batch_size\n",
    "\n",
    "#Set epochs, another hyperparameter ( +For later visualisation):\n",
    "hist = model.fit_generator(generator=training_generator, steps_per_epoch=STEP_SIZE_TRAIN, validation_data=validation_generator, validation_steps=STEP_SIZE_VALID, epochs=10)\n",
    "\n",
    "\n"
   ]
  },
  {
   "cell_type": "code",
   "execution_count": 10,
   "metadata": {
    "collapsed": false,
    "pycharm": {
     "name": "#%%\n"
    }
   },
   "outputs": [
    {
     "name": "stdout",
     "output_type": "stream",
     "text": [
      "Model: \"sequential\"\n",
      "_________________________________________________________________\n",
      " Layer (type)                Output Shape              Param #   \n",
      "=================================================================\n",
      " conv2d (Conv2D)             (None, 32, 32, 32)        896       \n",
      "                                                                 \n",
      " activation (Activation)     (None, 32, 32, 32)        0         \n",
      "                                                                 \n",
      " conv2d_1 (Conv2D)           (None, 30, 30, 32)        9248      \n",
      "                                                                 \n",
      " activation_1 (Activation)   (None, 30, 30, 32)        0         \n",
      "                                                                 \n",
      " max_pooling2d (MaxPooling2D  (None, 15, 15, 32)       0         \n",
      " )                                                               \n",
      "                                                                 \n",
      " dropout (Dropout)           (None, 15, 15, 32)        0         \n",
      "                                                                 \n",
      " conv2d_2 (Conv2D)           (None, 15, 15, 64)        18496     \n",
      "                                                                 \n",
      " activation_2 (Activation)   (None, 15, 15, 64)        0         \n",
      "                                                                 \n",
      " conv2d_3 (Conv2D)           (None, 13, 13, 64)        36928     \n",
      "                                                                 \n",
      " activation_3 (Activation)   (None, 13, 13, 64)        0         \n",
      "                                                                 \n",
      " max_pooling2d_1 (MaxPooling  (None, 6, 6, 64)         0         \n",
      " 2D)                                                             \n",
      "                                                                 \n",
      " dropout_1 (Dropout)         (None, 6, 6, 64)          0         \n",
      "                                                                 \n",
      " flatten (Flatten)           (None, 2304)              0         \n",
      "                                                                 \n",
      " dense (Dense)               (None, 512)               1180160   \n",
      "                                                                 \n",
      " activation_4 (Activation)   (None, 512)               0         \n",
      "                                                                 \n",
      " dropout_2 (Dropout)         (None, 512)               0         \n",
      "                                                                 \n",
      " dense_1 (Dense)             (None, 13)                6669      \n",
      "                                                                 \n",
      "=================================================================\n",
      "Total params: 1,252,397\n",
      "Trainable params: 1,252,397\n",
      "Non-trainable params: 0\n",
      "_________________________________________________________________\n"
     ]
    }
   ],
   "source": [
    "#Model Summary\n",
    "model.summary()"
   ]
  },
  {
   "cell_type": "markdown",
   "metadata": {
    "collapsed": false,
    "pycharm": {
     "name": "#%% md\n"
    }
   },
   "source": [
    "##  <font color='black'>Part 2: Improved Image Classification(50 Points)</font>"
   ]
  },
  {
   "cell_type": "markdown",
   "metadata": {
    "collapsed": false,
    "pycharm": {
     "name": "#%% md\n"
    }
   },
   "source": [
    "For the second part of this Assignment, I chose to improve on my previous model by attempting transfer leaning. I used the pre-trained VGG-16 Model, and fixed most of the layers so they are not trained."
   ]
  },
  {
   "cell_type": "markdown",
   "metadata": {
    "collapsed": false,
    "pycharm": {
     "name": "#%% md\n"
    }
   },
   "source": [
    "First, we can look at some evaluation metrics for our first model:"
   ]
  },
  {
   "cell_type": "code",
   "execution_count": 11,
   "metadata": {
    "collapsed": false,
    "pycharm": {
     "name": "#%%\n"
    }
   },
   "outputs": [
    {
     "data": {
      "image/png": "[encoded data removed]",
      "text/plain": [
       "<Figure size 432x288 with 1 Axes>"
      ]
     },
     "metadata": {
      "needs_background": "light"
     },
     "output_type": "display_data"
    }
   ],
   "source": [
    "import matplotlib.pyplot as plt\n",
    "plt.plot(hist.history[\"accuracy\"])\n",
    "plt.plot(hist.history['val_accuracy'])\n",
    "plt.plot(hist.history['loss'])\n",
    "plt.plot(hist.history['val_loss'])\n",
    "plt.title(\"model accuracy\")\n",
    "plt.ylabel(\"Accuracy\")\n",
    "plt.xlabel(\"Epoch\")\n",
    "plt.legend([\"Accuracy\",\"Validation Accuracy\",\"loss\",\"Validation Loss\"])\n",
    "plt.show()"
   ]
  },
  {
   "cell_type": "markdown",
   "metadata": {
    "collapsed": false,
    "pycharm": {
     "name": "#%% md\n"
    }
   },
   "source": [
    "##  <font color='black'>Transfer Learning using VGG-16 Pre-trained Model: </font>"
   ]
  },
  {
   "cell_type": "code",
   "execution_count": 12,
   "metadata": {
    "collapsed": false,
    "pycharm": {
     "name": "#%%\n"
    }
   },
   "outputs": [
    {
     "name": "stdout",
     "output_type": "stream",
     "text": [
      "Found 40429 validated image filenames belonging to 13 classes.\n",
      "Found 0 validated image filenames belonging to 13 classes.\n",
      "Model: \"sequential_1\"\n",
      "_________________________________________________________________\n",
      " Layer (type)                Output Shape              Param #   \n",
      "=================================================================\n",
      " vgg16 (Functional)          (None, 1, 1, 512)         14714688  \n",
      "                                                                 \n",
      " flatten_1 (Flatten)         (None, 512)               0         \n",
      "                                                                 \n",
      " dense_2 (Dense)             (None, 256)               131328    \n",
      "                                                                 \n",
      " batch_normalization (BatchN  (None, 256)              1024      \n",
      " ormalization)                                                   \n",
      "                                                                 \n",
      " dropout_3 (Dropout)         (None, 256)               0         \n",
      "                                                                 \n",
      " dense_3 (Dense)             (None, 13)                3341      \n",
      "                                                                 \n",
      "=================================================================\n",
      "Total params: 14,850,381\n",
      "Trainable params: 135,181\n",
      "Non-trainable params: 14,715,200\n",
      "_________________________________________________________________\n"
     ]
    }
   ],
   "source": [
    "from keras.layers import Dense\n",
    "from keras.preprocessing.image import ImageDataGenerator\n",
    "from keras.applications.vgg16 import VGG16\n",
    "\n",
    "\n",
    " #Model Hyper-parameters\n",
    "batch_size = 16\n",
    "image_width, image_height = 32, 32\n",
    "\n",
    "trdata = ImageDataGenerator(\n",
    "\n",
    "    #rescaling factor\n",
    "    rescale=1./255\n",
    ")\n",
    "\n",
    "#Train data\n",
    "traindata = trdata.flow_from_dataframe(dataframe = b,\n",
    "                                       directory=DATASET_PATH + \"\\images\",\n",
    "                                       x_col=\"image\",\n",
    "                                       y_col=\"subCategory\",\n",
    "                                       batch_size=batch_size,\n",
    "                                       class_mode=\"categorical\",\n",
    "                                       subset=\"training\",\n",
    "                                       target_size=(image_width,image_height))\n",
    "\n",
    "tsdata = ImageDataGenerator(rescale=1./255)\n",
    "\n",
    "#Test Data\n",
    "testdata = tsdata.flow_from_dataframe(dataframe = a,\n",
    "                                      directory=DATASET_PATH + \"\\images\",\n",
    "                                      x_col=\"image\",\n",
    "                                      y_col=\"subCategory\",\n",
    "                                      batch_size=batch_size,\n",
    "                                      class_mode=\"categorical\",\n",
    "                                      subset=\"validation\",\n",
    "                                      target_size=(image_width,image_height))\n",
    "\n",
    "\n",
    "\n",
    "\n",
    "#Pre-trained VGG-16 Model, not including top convolution layers\n",
    "pre_trained_model = VGG16(\n",
    "    input_shape=(image_width,image_height,3),\n",
    "    include_top=False,\n",
    "    weights=\"imagenet\" #Pre-trained weights\n",
    ")\n",
    "\n",
    "#Do not train pre-trained layers\n",
    "for layer in pre_trained_model.layers:\n",
    "    layer.trainable=False\n",
    "\n",
    "\n",
    "#Model Definition\n",
    "model = tf.keras.models.Sequential(\n",
    "    [\n",
    "    pre_trained_model,\n",
    "    Flatten(),\n",
    "    Dense(256,activation=\"relu\"),\n",
    "    BatchNormalization(),\n",
    "    Dropout(0.5),\n",
    "    Dense(13, activation='softmax')\n",
    "])\n",
    "\n",
    "#Model Hyperparameters\n",
    "STEP_SIZE_TRAIN=traindata.n//traindata.batch_size\n",
    "STEP_SIZE_VALID=testdata.n//testdata.batch_size\n",
    "\n",
    "#Print Summary\n",
    "model.summary()\n"
   ]
  },
  {
   "cell_type": "code",
   "execution_count": 13,
   "metadata": {
    "collapsed": false,
    "pycharm": {
     "name": "#%%\n"
    }
   },
   "outputs": [
    {
     "name": "stdout",
     "output_type": "stream",
     "text": [
      "Epoch 1/10\n",
      "2526/2526 [==============================] - 132s 52ms/step - loss: 0.7193 - acc: 0.7767\n",
      "Epoch 2/10\n",
      "2526/2526 [==============================] - 135s 53ms/step - loss: 0.5609 - acc: 0.8204\n",
      "Epoch 3/10\n",
      "2526/2526 [==============================] - 139s 55ms/step - loss: 0.5249 - acc: 0.8309\n",
      "Epoch 4/10\n",
      "2526/2526 [==============================] - 124s 49ms/step - loss: 0.5022 - acc: 0.8399\n",
      "Epoch 5/10\n",
      "2526/2526 [==============================] - 99s 39ms/step - loss: 0.4870 - acc: 0.8452\n",
      "Epoch 6/10\n",
      "2186/2526 [========================>.....] - ETA: 13s - loss: 0.4789 - acc: 0.8489"
     ]
    },
    {
     "name": "stderr",
     "output_type": "stream",
     "text": [
      "\n",
      "KeyboardInterrupt\n",
      "\n"
     ]
    }
   ],
   "source": [
    "\n",
    "#Compile using same evaluation metric and optimizer\n",
    "model.compile(\n",
    "    optimizer=\"adam\",\n",
    "    loss='categorical_crossentropy',\n",
    "    metrics = ['acc']\n",
    ")\n",
    "\n",
    "#Collect data for performance and visualisation\n",
    "hist = model.fit_generator(\n",
    "    traindata,\n",
    "    steps_per_epoch=STEP_SIZE_TRAIN,\n",
    "    validation_steps=STEP_SIZE_VALID,\n",
    "    validation_data=testdata,\n",
    "    epochs=10\n",
    ")\n"
   ]
  },
  {
   "cell_type": "code",
   "execution_count": null,
   "metadata": {
    "collapsed": false,
    "pycharm": {
     "name": "#%%\n"
    }
   },
   "outputs": [],
   "source": [
    "#Model Performance and Data visualisation\n",
    "import matplotlib.pyplot as plt\n",
    "plt.plot(hist.history[\"acc\"])\n",
    "plt.plot(hist.history['loss'])\n",
    "plt.title(\"model accuracy and loss\")\n",
    "plt.ylabel(\"Accuracy\")\n",
    "plt.xlabel(\"Epoch\")\n",
    "plt.legend([\"Accuracy\",\"loss\"])\n",
    "plt.show()"
   ]
  },
  {
   "cell_type": "markdown",
   "metadata": {
    "collapsed": false
   },
   "source": []
  },
  {
   "cell_type": "code",
   "execution_count": null,
   "metadata": {},
   "outputs": [],
   "source": [
    "#Test Data accuracy\n",
    "from sklearn.metrics import accuracy_score\n",
    "y_test=model.predict(testdata)\n",
    "y_pred=np.argmax(y_pred,axis=0)\n",
    "accuracy_score(ytest, y_pred)"
   ]
  },
  {
   "cell_type": "markdown",
   "metadata": {
    "collapsed": false,
    "pycharm": {
     "name": "#%% md\n"
    }
   },
   "source": [
    "##  <font color='black'>Conclusion</font>"
   ]
  },
  {
   "cell_type": "markdown",
   "metadata": {
    "collapsed": false,
    "pycharm": {
     "name": "#%% md\n"
    }
   },
   "source": [
    "The first model performed better than the Transfer Learning model.(92 vs 85.5 accuracy) One reason for this is because the transfer learning model had a lot more layers, and it would require a lot longer to train. In order to tinker with the layers, I did not have time to let the 2nd model learn properly, and for this reason it is not better. If I had more time, maybe 2nd model could be better accuracy!"
   ]
  },
  {
   "cell_type": "code",
   "execution_count": null,
   "metadata": {
    "collapsed": false,
    "pycharm": {
     "name": "#%%\n"
    }
   },
   "outputs": [],
   "source": []
  }
 ],
 "metadata": {
  "kernelspec": {
   "display_name": "Python 3",
   "language": "python",
   "name": "python3"
  },
  "language_info": {
   "codemirror_mode": {
    "name": "ipython",
    "version": 2
   },
   "file_extension": ".py",
   "mimetype": "text/x-python",
   "name": "python",
   "nbconvert_exporter": "python",
   "pygments_lexer": "ipython2",
   "version": "2.7.6"
  }
 },
 "nbformat": 4,
 "nbformat_minor": 0
}
